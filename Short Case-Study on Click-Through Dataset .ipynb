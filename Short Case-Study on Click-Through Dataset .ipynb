{
 "cells": [
  {
   "cell_type": "markdown",
   "metadata": {},
   "source": [
    "### Short Case-Study on Click-Through Dataset"
   ]
  },
  {
   "cell_type": "markdown",
   "metadata": {},
   "source": [
    "#### Summary:\n",
    "I've tried to do a short case study on click-through data set in which the actual goal is to predict the probabilities of the click (0/1). I've tried to make use of the fundamental concepts and techniques instead of the very advanced ones.\n",
    "I've tried to explore features and their individual relationships with the target variable - clich which has two classes - 0/1. There is no need to perform extensive data processing but a few useful things that could be done are: Label-Encoding/hot-encoding a few of the site,domain and device features, formatting the hour column to carry out more purposeful analysis. A few of the feature-selection techniques that I experimented with were l1 penalty, useful results from data exploration and RFE. There is a lot of room for improvement in the application of feature-selection techniques.I tried to play with the polynomial features to see if there is any improvement in the confusion matrix as all the models approximately yielded the same accuracy.  \n",
    "\n",
    "#### Scope of Improvement:\n",
    "One of the few things that I noticed about the dataset was that it is unbalanced. Sampling techniques could have been applied to solve this problem. Feature-Selection and Model selection could have been better since there is no significant improvement in any of the models selected.The entire machine-learning pipeline could have been reiterated over to yield better results. For example - extensive data exploration techniques can yield better intuition in building models. Experimentation with different features can lead to better models and eventually better results in the evaluation phase.    "
   ]
  },
  {
   "cell_type": "code",
   "execution_count": 8,
   "metadata": {},
   "outputs": [],
   "source": [
    "import pandas as pd\n",
    "import numpy as np\n",
    "from sklearn.linear_model import LogisticRegression\n",
    "from sklearn.linear_model import Ridge\n",
    "import matplotlib as plt"
   ]
  },
  {
   "cell_type": "code",
   "execution_count": 9,
   "metadata": {},
   "outputs": [],
   "source": [
    "data = pd.read_csv(\"sampled_training.csv\")"
   ]
  },
  {
   "cell_type": "code",
   "execution_count": 10,
   "metadata": {
    "scrolled": true
   },
   "outputs": [
    {
     "data": {
      "text/html": [
       "<div>\n",
       "<style scoped>\n",
       "    .dataframe tbody tr th:only-of-type {\n",
       "        vertical-align: middle;\n",
       "    }\n",
       "\n",
       "    .dataframe tbody tr th {\n",
       "        vertical-align: top;\n",
       "    }\n",
       "\n",
       "    .dataframe thead th {\n",
       "        text-align: right;\n",
       "    }\n",
       "</style>\n",
       "<table border=\"1\" class=\"dataframe\">\n",
       "  <thead>\n",
       "    <tr style=\"text-align: right;\">\n",
       "      <th></th>\n",
       "      <th>id</th>\n",
       "      <th>click</th>\n",
       "      <th>hour</th>\n",
       "      <th>C1</th>\n",
       "      <th>banner_pos</th>\n",
       "      <th>site_id</th>\n",
       "      <th>site_domain</th>\n",
       "      <th>site_category</th>\n",
       "      <th>app_id</th>\n",
       "      <th>app_domain</th>\n",
       "      <th>...</th>\n",
       "      <th>device_type</th>\n",
       "      <th>device_conn_type</th>\n",
       "      <th>C14</th>\n",
       "      <th>C15</th>\n",
       "      <th>C16</th>\n",
       "      <th>C17</th>\n",
       "      <th>C18</th>\n",
       "      <th>C19</th>\n",
       "      <th>C20</th>\n",
       "      <th>C21</th>\n",
       "    </tr>\n",
       "  </thead>\n",
       "  <tbody>\n",
       "    <tr>\n",
       "      <th>0</th>\n",
       "      <td>10002028568167339219</td>\n",
       "      <td>0</td>\n",
       "      <td>14102100</td>\n",
       "      <td>1005</td>\n",
       "      <td>0</td>\n",
       "      <td>9e8cf15d</td>\n",
       "      <td>0d3cb7be</td>\n",
       "      <td>f028772b</td>\n",
       "      <td>ecad2386</td>\n",
       "      <td>7801e8d9</td>\n",
       "      <td>...</td>\n",
       "      <td>1</td>\n",
       "      <td>2</td>\n",
       "      <td>20596</td>\n",
       "      <td>320</td>\n",
       "      <td>50</td>\n",
       "      <td>2161</td>\n",
       "      <td>0</td>\n",
       "      <td>35</td>\n",
       "      <td>100148</td>\n",
       "      <td>157</td>\n",
       "    </tr>\n",
       "    <tr>\n",
       "      <th>1</th>\n",
       "      <td>10006958186789044052</td>\n",
       "      <td>1</td>\n",
       "      <td>14102100</td>\n",
       "      <td>1005</td>\n",
       "      <td>0</td>\n",
       "      <td>85f751fd</td>\n",
       "      <td>c4e18dd6</td>\n",
       "      <td>50e219e0</td>\n",
       "      <td>0acbeaa3</td>\n",
       "      <td>45a51db4</td>\n",
       "      <td>...</td>\n",
       "      <td>1</td>\n",
       "      <td>0</td>\n",
       "      <td>18993</td>\n",
       "      <td>320</td>\n",
       "      <td>50</td>\n",
       "      <td>2161</td>\n",
       "      <td>0</td>\n",
       "      <td>35</td>\n",
       "      <td>100034</td>\n",
       "      <td>157</td>\n",
       "    </tr>\n",
       "    <tr>\n",
       "      <th>2</th>\n",
       "      <td>10011650513707909570</td>\n",
       "      <td>0</td>\n",
       "      <td>14102100</td>\n",
       "      <td>1005</td>\n",
       "      <td>0</td>\n",
       "      <td>85f751fd</td>\n",
       "      <td>c4e18dd6</td>\n",
       "      <td>50e219e0</td>\n",
       "      <td>febd1138</td>\n",
       "      <td>82e27996</td>\n",
       "      <td>...</td>\n",
       "      <td>1</td>\n",
       "      <td>0</td>\n",
       "      <td>21611</td>\n",
       "      <td>320</td>\n",
       "      <td>50</td>\n",
       "      <td>2480</td>\n",
       "      <td>3</td>\n",
       "      <td>297</td>\n",
       "      <td>100111</td>\n",
       "      <td>61</td>\n",
       "    </tr>\n",
       "    <tr>\n",
       "      <th>3</th>\n",
       "      <td>10022961149355219548</td>\n",
       "      <td>0</td>\n",
       "      <td>14102100</td>\n",
       "      <td>1005</td>\n",
       "      <td>0</td>\n",
       "      <td>85f751fd</td>\n",
       "      <td>c4e18dd6</td>\n",
       "      <td>50e219e0</td>\n",
       "      <td>e2fcccd2</td>\n",
       "      <td>5c5a694b</td>\n",
       "      <td>...</td>\n",
       "      <td>1</td>\n",
       "      <td>0</td>\n",
       "      <td>4687</td>\n",
       "      <td>320</td>\n",
       "      <td>50</td>\n",
       "      <td>423</td>\n",
       "      <td>2</td>\n",
       "      <td>39</td>\n",
       "      <td>100148</td>\n",
       "      <td>32</td>\n",
       "    </tr>\n",
       "    <tr>\n",
       "      <th>4</th>\n",
       "      <td>10029289556764215760</td>\n",
       "      <td>0</td>\n",
       "      <td>14102100</td>\n",
       "      <td>1005</td>\n",
       "      <td>0</td>\n",
       "      <td>1fbe01fe</td>\n",
       "      <td>f3845767</td>\n",
       "      <td>28905ebd</td>\n",
       "      <td>ecad2386</td>\n",
       "      <td>7801e8d9</td>\n",
       "      <td>...</td>\n",
       "      <td>1</td>\n",
       "      <td>2</td>\n",
       "      <td>15706</td>\n",
       "      <td>320</td>\n",
       "      <td>50</td>\n",
       "      <td>1722</td>\n",
       "      <td>0</td>\n",
       "      <td>35</td>\n",
       "      <td>100084</td>\n",
       "      <td>79</td>\n",
       "    </tr>\n",
       "    <tr>\n",
       "      <th>5</th>\n",
       "      <td>1002948443498545577</td>\n",
       "      <td>0</td>\n",
       "      <td>14102100</td>\n",
       "      <td>1005</td>\n",
       "      <td>0</td>\n",
       "      <td>85f751fd</td>\n",
       "      <td>c4e18dd6</td>\n",
       "      <td>50e219e0</td>\n",
       "      <td>1779deee</td>\n",
       "      <td>2347f47a</td>\n",
       "      <td>...</td>\n",
       "      <td>1</td>\n",
       "      <td>0</td>\n",
       "      <td>20596</td>\n",
       "      <td>320</td>\n",
       "      <td>50</td>\n",
       "      <td>2161</td>\n",
       "      <td>0</td>\n",
       "      <td>35</td>\n",
       "      <td>-1</td>\n",
       "      <td>157</td>\n",
       "    </tr>\n",
       "    <tr>\n",
       "      <th>6</th>\n",
       "      <td>10033341691920548518</td>\n",
       "      <td>0</td>\n",
       "      <td>14102100</td>\n",
       "      <td>1005</td>\n",
       "      <td>0</td>\n",
       "      <td>1fbe01fe</td>\n",
       "      <td>f3845767</td>\n",
       "      <td>28905ebd</td>\n",
       "      <td>ecad2386</td>\n",
       "      <td>7801e8d9</td>\n",
       "      <td>...</td>\n",
       "      <td>1</td>\n",
       "      <td>0</td>\n",
       "      <td>15701</td>\n",
       "      <td>320</td>\n",
       "      <td>50</td>\n",
       "      <td>1722</td>\n",
       "      <td>0</td>\n",
       "      <td>35</td>\n",
       "      <td>100084</td>\n",
       "      <td>79</td>\n",
       "    </tr>\n",
       "    <tr>\n",
       "      <th>7</th>\n",
       "      <td>10039148490202159706</td>\n",
       "      <td>0</td>\n",
       "      <td>14102100</td>\n",
       "      <td>1005</td>\n",
       "      <td>0</td>\n",
       "      <td>85f751fd</td>\n",
       "      <td>c4e18dd6</td>\n",
       "      <td>50e219e0</td>\n",
       "      <td>92e72531</td>\n",
       "      <td>d9b5648e</td>\n",
       "      <td>...</td>\n",
       "      <td>1</td>\n",
       "      <td>0</td>\n",
       "      <td>21611</td>\n",
       "      <td>320</td>\n",
       "      <td>50</td>\n",
       "      <td>2480</td>\n",
       "      <td>3</td>\n",
       "      <td>297</td>\n",
       "      <td>100111</td>\n",
       "      <td>61</td>\n",
       "    </tr>\n",
       "    <tr>\n",
       "      <th>8</th>\n",
       "      <td>10039475935406792420</td>\n",
       "      <td>0</td>\n",
       "      <td>14102100</td>\n",
       "      <td>1005</td>\n",
       "      <td>0</td>\n",
       "      <td>1fbe01fe</td>\n",
       "      <td>f3845767</td>\n",
       "      <td>28905ebd</td>\n",
       "      <td>ecad2386</td>\n",
       "      <td>7801e8d9</td>\n",
       "      <td>...</td>\n",
       "      <td>1</td>\n",
       "      <td>0</td>\n",
       "      <td>15702</td>\n",
       "      <td>320</td>\n",
       "      <td>50</td>\n",
       "      <td>1722</td>\n",
       "      <td>0</td>\n",
       "      <td>35</td>\n",
       "      <td>-1</td>\n",
       "      <td>79</td>\n",
       "    </tr>\n",
       "    <tr>\n",
       "      <th>9</th>\n",
       "      <td>10040214148118137106</td>\n",
       "      <td>1</td>\n",
       "      <td>14102100</td>\n",
       "      <td>1005</td>\n",
       "      <td>1</td>\n",
       "      <td>e151e245</td>\n",
       "      <td>7e091613</td>\n",
       "      <td>f028772b</td>\n",
       "      <td>ecad2386</td>\n",
       "      <td>7801e8d9</td>\n",
       "      <td>...</td>\n",
       "      <td>1</td>\n",
       "      <td>0</td>\n",
       "      <td>15708</td>\n",
       "      <td>320</td>\n",
       "      <td>50</td>\n",
       "      <td>1722</td>\n",
       "      <td>0</td>\n",
       "      <td>35</td>\n",
       "      <td>-1</td>\n",
       "      <td>79</td>\n",
       "    </tr>\n",
       "    <tr>\n",
       "      <th>10</th>\n",
       "      <td>10049912249071122269</td>\n",
       "      <td>0</td>\n",
       "      <td>14102100</td>\n",
       "      <td>1005</td>\n",
       "      <td>0</td>\n",
       "      <td>1fbe01fe</td>\n",
       "      <td>f3845767</td>\n",
       "      <td>28905ebd</td>\n",
       "      <td>ecad2386</td>\n",
       "      <td>7801e8d9</td>\n",
       "      <td>...</td>\n",
       "      <td>1</td>\n",
       "      <td>0</td>\n",
       "      <td>15704</td>\n",
       "      <td>320</td>\n",
       "      <td>50</td>\n",
       "      <td>1722</td>\n",
       "      <td>0</td>\n",
       "      <td>35</td>\n",
       "      <td>100084</td>\n",
       "      <td>79</td>\n",
       "    </tr>\n",
       "    <tr>\n",
       "      <th>11</th>\n",
       "      <td>10055850146571597965</td>\n",
       "      <td>0</td>\n",
       "      <td>14102100</td>\n",
       "      <td>1005</td>\n",
       "      <td>0</td>\n",
       "      <td>85f751fd</td>\n",
       "      <td>c4e18dd6</td>\n",
       "      <td>50e219e0</td>\n",
       "      <td>0acbeaa3</td>\n",
       "      <td>45a51db4</td>\n",
       "      <td>...</td>\n",
       "      <td>1</td>\n",
       "      <td>0</td>\n",
       "      <td>20596</td>\n",
       "      <td>320</td>\n",
       "      <td>50</td>\n",
       "      <td>2161</td>\n",
       "      <td>0</td>\n",
       "      <td>35</td>\n",
       "      <td>-1</td>\n",
       "      <td>157</td>\n",
       "    </tr>\n",
       "    <tr>\n",
       "      <th>12</th>\n",
       "      <td>10073029479083950035</td>\n",
       "      <td>0</td>\n",
       "      <td>14102100</td>\n",
       "      <td>1005</td>\n",
       "      <td>0</td>\n",
       "      <td>543a539e</td>\n",
       "      <td>c7ca3108</td>\n",
       "      <td>3e814130</td>\n",
       "      <td>ecad2386</td>\n",
       "      <td>7801e8d9</td>\n",
       "      <td>...</td>\n",
       "      <td>1</td>\n",
       "      <td>0</td>\n",
       "      <td>20352</td>\n",
       "      <td>320</td>\n",
       "      <td>50</td>\n",
       "      <td>2333</td>\n",
       "      <td>0</td>\n",
       "      <td>39</td>\n",
       "      <td>-1</td>\n",
       "      <td>157</td>\n",
       "    </tr>\n",
       "    <tr>\n",
       "      <th>13</th>\n",
       "      <td>10092767791685469403</td>\n",
       "      <td>0</td>\n",
       "      <td>14102100</td>\n",
       "      <td>1005</td>\n",
       "      <td>0</td>\n",
       "      <td>1fbe01fe</td>\n",
       "      <td>f3845767</td>\n",
       "      <td>28905ebd</td>\n",
       "      <td>ecad2386</td>\n",
       "      <td>7801e8d9</td>\n",
       "      <td>...</td>\n",
       "      <td>1</td>\n",
       "      <td>0</td>\n",
       "      <td>15704</td>\n",
       "      <td>320</td>\n",
       "      <td>50</td>\n",
       "      <td>1722</td>\n",
       "      <td>0</td>\n",
       "      <td>35</td>\n",
       "      <td>-1</td>\n",
       "      <td>79</td>\n",
       "    </tr>\n",
       "    <tr>\n",
       "      <th>14</th>\n",
       "      <td>10099705358904483860</td>\n",
       "      <td>0</td>\n",
       "      <td>14102100</td>\n",
       "      <td>1002</td>\n",
       "      <td>0</td>\n",
       "      <td>34d1d55f</td>\n",
       "      <td>97df357a</td>\n",
       "      <td>50e219e0</td>\n",
       "      <td>ecad2386</td>\n",
       "      <td>7801e8d9</td>\n",
       "      <td>...</td>\n",
       "      <td>0</td>\n",
       "      <td>0</td>\n",
       "      <td>20170</td>\n",
       "      <td>300</td>\n",
       "      <td>50</td>\n",
       "      <td>2312</td>\n",
       "      <td>0</td>\n",
       "      <td>167</td>\n",
       "      <td>100075</td>\n",
       "      <td>16</td>\n",
       "    </tr>\n",
       "    <tr>\n",
       "      <th>15</th>\n",
       "      <td>10101485147521463940</td>\n",
       "      <td>0</td>\n",
       "      <td>14102100</td>\n",
       "      <td>1005</td>\n",
       "      <td>0</td>\n",
       "      <td>f282ab5a</td>\n",
       "      <td>61eb5bc4</td>\n",
       "      <td>f028772b</td>\n",
       "      <td>ecad2386</td>\n",
       "      <td>7801e8d9</td>\n",
       "      <td>...</td>\n",
       "      <td>1</td>\n",
       "      <td>0</td>\n",
       "      <td>18993</td>\n",
       "      <td>320</td>\n",
       "      <td>50</td>\n",
       "      <td>2161</td>\n",
       "      <td>0</td>\n",
       "      <td>35</td>\n",
       "      <td>-1</td>\n",
       "      <td>157</td>\n",
       "    </tr>\n",
       "    <tr>\n",
       "      <th>16</th>\n",
       "      <td>10108912282231359470</td>\n",
       "      <td>0</td>\n",
       "      <td>14102100</td>\n",
       "      <td>1005</td>\n",
       "      <td>0</td>\n",
       "      <td>f282ab5a</td>\n",
       "      <td>61eb5bc4</td>\n",
       "      <td>f028772b</td>\n",
       "      <td>ecad2386</td>\n",
       "      <td>7801e8d9</td>\n",
       "      <td>...</td>\n",
       "      <td>1</td>\n",
       "      <td>0</td>\n",
       "      <td>20596</td>\n",
       "      <td>320</td>\n",
       "      <td>50</td>\n",
       "      <td>2161</td>\n",
       "      <td>0</td>\n",
       "      <td>35</td>\n",
       "      <td>-1</td>\n",
       "      <td>157</td>\n",
       "    </tr>\n",
       "    <tr>\n",
       "      <th>17</th>\n",
       "      <td>10114646856300029525</td>\n",
       "      <td>1</td>\n",
       "      <td>14102100</td>\n",
       "      <td>1005</td>\n",
       "      <td>0</td>\n",
       "      <td>1fbe01fe</td>\n",
       "      <td>f3845767</td>\n",
       "      <td>28905ebd</td>\n",
       "      <td>ecad2386</td>\n",
       "      <td>7801e8d9</td>\n",
       "      <td>...</td>\n",
       "      <td>1</td>\n",
       "      <td>0</td>\n",
       "      <td>15701</td>\n",
       "      <td>320</td>\n",
       "      <td>50</td>\n",
       "      <td>1722</td>\n",
       "      <td>0</td>\n",
       "      <td>35</td>\n",
       "      <td>100084</td>\n",
       "      <td>79</td>\n",
       "    </tr>\n",
       "    <tr>\n",
       "      <th>18</th>\n",
       "      <td>10118205990531985458</td>\n",
       "      <td>0</td>\n",
       "      <td>14102100</td>\n",
       "      <td>1005</td>\n",
       "      <td>0</td>\n",
       "      <td>85f751fd</td>\n",
       "      <td>c4e18dd6</td>\n",
       "      <td>50e219e0</td>\n",
       "      <td>5e3f096f</td>\n",
       "      <td>2347f47a</td>\n",
       "      <td>...</td>\n",
       "      <td>1</td>\n",
       "      <td>0</td>\n",
       "      <td>21611</td>\n",
       "      <td>320</td>\n",
       "      <td>50</td>\n",
       "      <td>2480</td>\n",
       "      <td>3</td>\n",
       "      <td>297</td>\n",
       "      <td>100111</td>\n",
       "      <td>61</td>\n",
       "    </tr>\n",
       "    <tr>\n",
       "      <th>19</th>\n",
       "      <td>10120292014780414521</td>\n",
       "      <td>1</td>\n",
       "      <td>14102100</td>\n",
       "      <td>1005</td>\n",
       "      <td>0</td>\n",
       "      <td>6399eda6</td>\n",
       "      <td>968765cd</td>\n",
       "      <td>f028772b</td>\n",
       "      <td>ecad2386</td>\n",
       "      <td>7801e8d9</td>\n",
       "      <td>...</td>\n",
       "      <td>1</td>\n",
       "      <td>0</td>\n",
       "      <td>16208</td>\n",
       "      <td>320</td>\n",
       "      <td>50</td>\n",
       "      <td>1800</td>\n",
       "      <td>3</td>\n",
       "      <td>167</td>\n",
       "      <td>-1</td>\n",
       "      <td>23</td>\n",
       "    </tr>\n",
       "    <tr>\n",
       "      <th>20</th>\n",
       "      <td>10120475683957064748</td>\n",
       "      <td>0</td>\n",
       "      <td>14102100</td>\n",
       "      <td>1005</td>\n",
       "      <td>0</td>\n",
       "      <td>d9750ee7</td>\n",
       "      <td>98572c79</td>\n",
       "      <td>f028772b</td>\n",
       "      <td>ecad2386</td>\n",
       "      <td>7801e8d9</td>\n",
       "      <td>...</td>\n",
       "      <td>1</td>\n",
       "      <td>0</td>\n",
       "      <td>17914</td>\n",
       "      <td>320</td>\n",
       "      <td>50</td>\n",
       "      <td>2043</td>\n",
       "      <td>2</td>\n",
       "      <td>39</td>\n",
       "      <td>100084</td>\n",
       "      <td>32</td>\n",
       "    </tr>\n",
       "    <tr>\n",
       "      <th>21</th>\n",
       "      <td>10122994237418388694</td>\n",
       "      <td>0</td>\n",
       "      <td>14102100</td>\n",
       "      <td>1005</td>\n",
       "      <td>1</td>\n",
       "      <td>e151e245</td>\n",
       "      <td>7e091613</td>\n",
       "      <td>f028772b</td>\n",
       "      <td>ecad2386</td>\n",
       "      <td>7801e8d9</td>\n",
       "      <td>...</td>\n",
       "      <td>1</td>\n",
       "      <td>0</td>\n",
       "      <td>20362</td>\n",
       "      <td>320</td>\n",
       "      <td>50</td>\n",
       "      <td>2333</td>\n",
       "      <td>0</td>\n",
       "      <td>39</td>\n",
       "      <td>-1</td>\n",
       "      <td>157</td>\n",
       "    </tr>\n",
       "    <tr>\n",
       "      <th>22</th>\n",
       "      <td>10123692494388520103</td>\n",
       "      <td>0</td>\n",
       "      <td>14102100</td>\n",
       "      <td>1005</td>\n",
       "      <td>0</td>\n",
       "      <td>09c3b4c1</td>\n",
       "      <td>2f1172f7</td>\n",
       "      <td>335d28a8</td>\n",
       "      <td>ecad2386</td>\n",
       "      <td>7801e8d9</td>\n",
       "      <td>...</td>\n",
       "      <td>1</td>\n",
       "      <td>0</td>\n",
       "      <td>18993</td>\n",
       "      <td>320</td>\n",
       "      <td>50</td>\n",
       "      <td>2161</td>\n",
       "      <td>0</td>\n",
       "      <td>35</td>\n",
       "      <td>100131</td>\n",
       "      <td>157</td>\n",
       "    </tr>\n",
       "    <tr>\n",
       "      <th>23</th>\n",
       "      <td>10130712871143000724</td>\n",
       "      <td>0</td>\n",
       "      <td>14102100</td>\n",
       "      <td>1005</td>\n",
       "      <td>1</td>\n",
       "      <td>5b4d2eda</td>\n",
       "      <td>16a36ef3</td>\n",
       "      <td>f028772b</td>\n",
       "      <td>ecad2386</td>\n",
       "      <td>7801e8d9</td>\n",
       "      <td>...</td>\n",
       "      <td>1</td>\n",
       "      <td>0</td>\n",
       "      <td>19950</td>\n",
       "      <td>320</td>\n",
       "      <td>50</td>\n",
       "      <td>1800</td>\n",
       "      <td>3</td>\n",
       "      <td>167</td>\n",
       "      <td>100074</td>\n",
       "      <td>23</td>\n",
       "    </tr>\n",
       "    <tr>\n",
       "      <th>24</th>\n",
       "      <td>10138504903713629439</td>\n",
       "      <td>0</td>\n",
       "      <td>14102100</td>\n",
       "      <td>1005</td>\n",
       "      <td>0</td>\n",
       "      <td>1fbe01fe</td>\n",
       "      <td>f3845767</td>\n",
       "      <td>28905ebd</td>\n",
       "      <td>ecad2386</td>\n",
       "      <td>7801e8d9</td>\n",
       "      <td>...</td>\n",
       "      <td>1</td>\n",
       "      <td>0</td>\n",
       "      <td>15705</td>\n",
       "      <td>320</td>\n",
       "      <td>50</td>\n",
       "      <td>1722</td>\n",
       "      <td>0</td>\n",
       "      <td>35</td>\n",
       "      <td>100083</td>\n",
       "      <td>79</td>\n",
       "    </tr>\n",
       "  </tbody>\n",
       "</table>\n",
       "<p>25 rows × 24 columns</p>\n",
       "</div>"
      ],
      "text/plain": [
       "                      id  click      hour    C1  banner_pos   site_id  \\\n",
       "0   10002028568167339219      0  14102100  1005           0  9e8cf15d   \n",
       "1   10006958186789044052      1  14102100  1005           0  85f751fd   \n",
       "2   10011650513707909570      0  14102100  1005           0  85f751fd   \n",
       "3   10022961149355219548      0  14102100  1005           0  85f751fd   \n",
       "4   10029289556764215760      0  14102100  1005           0  1fbe01fe   \n",
       "5    1002948443498545577      0  14102100  1005           0  85f751fd   \n",
       "6   10033341691920548518      0  14102100  1005           0  1fbe01fe   \n",
       "7   10039148490202159706      0  14102100  1005           0  85f751fd   \n",
       "8   10039475935406792420      0  14102100  1005           0  1fbe01fe   \n",
       "9   10040214148118137106      1  14102100  1005           1  e151e245   \n",
       "10  10049912249071122269      0  14102100  1005           0  1fbe01fe   \n",
       "11  10055850146571597965      0  14102100  1005           0  85f751fd   \n",
       "12  10073029479083950035      0  14102100  1005           0  543a539e   \n",
       "13  10092767791685469403      0  14102100  1005           0  1fbe01fe   \n",
       "14  10099705358904483860      0  14102100  1002           0  34d1d55f   \n",
       "15  10101485147521463940      0  14102100  1005           0  f282ab5a   \n",
       "16  10108912282231359470      0  14102100  1005           0  f282ab5a   \n",
       "17  10114646856300029525      1  14102100  1005           0  1fbe01fe   \n",
       "18  10118205990531985458      0  14102100  1005           0  85f751fd   \n",
       "19  10120292014780414521      1  14102100  1005           0  6399eda6   \n",
       "20  10120475683957064748      0  14102100  1005           0  d9750ee7   \n",
       "21  10122994237418388694      0  14102100  1005           1  e151e245   \n",
       "22  10123692494388520103      0  14102100  1005           0  09c3b4c1   \n",
       "23  10130712871143000724      0  14102100  1005           1  5b4d2eda   \n",
       "24  10138504903713629439      0  14102100  1005           0  1fbe01fe   \n",
       "\n",
       "   site_domain site_category    app_id app_domain  ... device_type  \\\n",
       "0     0d3cb7be      f028772b  ecad2386   7801e8d9  ...           1   \n",
       "1     c4e18dd6      50e219e0  0acbeaa3   45a51db4  ...           1   \n",
       "2     c4e18dd6      50e219e0  febd1138   82e27996  ...           1   \n",
       "3     c4e18dd6      50e219e0  e2fcccd2   5c5a694b  ...           1   \n",
       "4     f3845767      28905ebd  ecad2386   7801e8d9  ...           1   \n",
       "5     c4e18dd6      50e219e0  1779deee   2347f47a  ...           1   \n",
       "6     f3845767      28905ebd  ecad2386   7801e8d9  ...           1   \n",
       "7     c4e18dd6      50e219e0  92e72531   d9b5648e  ...           1   \n",
       "8     f3845767      28905ebd  ecad2386   7801e8d9  ...           1   \n",
       "9     7e091613      f028772b  ecad2386   7801e8d9  ...           1   \n",
       "10    f3845767      28905ebd  ecad2386   7801e8d9  ...           1   \n",
       "11    c4e18dd6      50e219e0  0acbeaa3   45a51db4  ...           1   \n",
       "12    c7ca3108      3e814130  ecad2386   7801e8d9  ...           1   \n",
       "13    f3845767      28905ebd  ecad2386   7801e8d9  ...           1   \n",
       "14    97df357a      50e219e0  ecad2386   7801e8d9  ...           0   \n",
       "15    61eb5bc4      f028772b  ecad2386   7801e8d9  ...           1   \n",
       "16    61eb5bc4      f028772b  ecad2386   7801e8d9  ...           1   \n",
       "17    f3845767      28905ebd  ecad2386   7801e8d9  ...           1   \n",
       "18    c4e18dd6      50e219e0  5e3f096f   2347f47a  ...           1   \n",
       "19    968765cd      f028772b  ecad2386   7801e8d9  ...           1   \n",
       "20    98572c79      f028772b  ecad2386   7801e8d9  ...           1   \n",
       "21    7e091613      f028772b  ecad2386   7801e8d9  ...           1   \n",
       "22    2f1172f7      335d28a8  ecad2386   7801e8d9  ...           1   \n",
       "23    16a36ef3      f028772b  ecad2386   7801e8d9  ...           1   \n",
       "24    f3845767      28905ebd  ecad2386   7801e8d9  ...           1   \n",
       "\n",
       "   device_conn_type    C14  C15  C16   C17  C18  C19     C20  C21  \n",
       "0                 2  20596  320   50  2161    0   35  100148  157  \n",
       "1                 0  18993  320   50  2161    0   35  100034  157  \n",
       "2                 0  21611  320   50  2480    3  297  100111   61  \n",
       "3                 0   4687  320   50   423    2   39  100148   32  \n",
       "4                 2  15706  320   50  1722    0   35  100084   79  \n",
       "5                 0  20596  320   50  2161    0   35      -1  157  \n",
       "6                 0  15701  320   50  1722    0   35  100084   79  \n",
       "7                 0  21611  320   50  2480    3  297  100111   61  \n",
       "8                 0  15702  320   50  1722    0   35      -1   79  \n",
       "9                 0  15708  320   50  1722    0   35      -1   79  \n",
       "10                0  15704  320   50  1722    0   35  100084   79  \n",
       "11                0  20596  320   50  2161    0   35      -1  157  \n",
       "12                0  20352  320   50  2333    0   39      -1  157  \n",
       "13                0  15704  320   50  1722    0   35      -1   79  \n",
       "14                0  20170  300   50  2312    0  167  100075   16  \n",
       "15                0  18993  320   50  2161    0   35      -1  157  \n",
       "16                0  20596  320   50  2161    0   35      -1  157  \n",
       "17                0  15701  320   50  1722    0   35  100084   79  \n",
       "18                0  21611  320   50  2480    3  297  100111   61  \n",
       "19                0  16208  320   50  1800    3  167      -1   23  \n",
       "20                0  17914  320   50  2043    2   39  100084   32  \n",
       "21                0  20362  320   50  2333    0   39      -1  157  \n",
       "22                0  18993  320   50  2161    0   35  100131  157  \n",
       "23                0  19950  320   50  1800    3  167  100074   23  \n",
       "24                0  15705  320   50  1722    0   35  100083   79  \n",
       "\n",
       "[25 rows x 24 columns]"
      ]
     },
     "execution_count": 10,
     "metadata": {},
     "output_type": "execute_result"
    }
   ],
   "source": [
    "data[:25]"
   ]
  },
  {
   "cell_type": "code",
   "execution_count": 11,
   "metadata": {},
   "outputs": [
    {
     "data": {
      "text/plain": [
       "Index(['id', 'click', 'hour', 'C1', 'banner_pos', 'site_id', 'site_domain',\n",
       "       'site_category', 'app_id', 'app_domain', 'app_category', 'device_id',\n",
       "       'device_ip', 'device_model', 'device_type', 'device_conn_type', 'C14',\n",
       "       'C15', 'C16', 'C17', 'C18', 'C19', 'C20', 'C21'],\n",
       "      dtype='object')"
      ]
     },
     "execution_count": 11,
     "metadata": {},
     "output_type": "execute_result"
    }
   ],
   "source": [
    "data.columns"
   ]
  },
  {
   "cell_type": "markdown",
   "metadata": {},
   "source": [
    "### Class-Imbalance Check for the Target variable"
   ]
  },
  {
   "cell_type": "code",
   "execution_count": 12,
   "metadata": {},
   "outputs": [
    {
     "data": {
      "image/png": "[encoded data removed]",
      "text/plain": [
       "<Figure size 432x288 with 1 Axes>"
      ]
     },
     "metadata": {
      "needs_background": "light"
     },
     "output_type": "display_data"
    }
   ],
   "source": [
    "import seaborn as sns\n",
    "import matplotlib.pyplot as plt\n",
    "sns.countplot(x='click',data=data)\n",
    "plt.show()"
   ]
  },
  {
   "cell_type": "markdown",
   "metadata": {},
   "source": [
    "#### Note: There is a high imbalance in the dataset and it is important to know the actual percentage of clicks and as per the suspicion, there is only a small percentage of actual clicks."
   ]
  },
  {
   "cell_type": "code",
   "execution_count": 13,
   "metadata": {},
   "outputs": [
    {
     "data": {
      "text/plain": [
       "0.17027108412309633"
      ]
     },
     "execution_count": 13,
     "metadata": {},
     "output_type": "execute_result"
    }
   ],
   "source": [
    "data['click'].mean()"
   ]
  },
  {
   "cell_type": "markdown",
   "metadata": {},
   "source": [
    "Data Intuition: The Dataset contains a few categorical features and a lot of anonymized features due to which it is not possible to get a clear idea or intuition about the possible predictors. Therefore, next phase will be to explore individual relationships between the target and predictors."
   ]
  },
  {
   "cell_type": "markdown",
   "metadata": {},
   "source": [
    "## Data Exploration of  Variables"
   ]
  },
  {
   "cell_type": "markdown",
   "metadata": {},
   "source": [
    "### C1"
   ]
  },
  {
   "cell_type": "code",
   "execution_count": 14,
   "metadata": {},
   "outputs": [
    {
     "data": {
      "text/plain": [
       "count    843502.000000\n",
       "mean       1004.959553\n",
       "std           1.132949\n",
       "min        1001.000000\n",
       "25%        1005.000000\n",
       "50%        1005.000000\n",
       "75%        1005.000000\n",
       "max        1012.000000\n",
       "Name: C1, dtype: float64"
      ]
     },
     "execution_count": 14,
     "metadata": {},
     "output_type": "execute_result"
    }
   ],
   "source": [
    "data.C1.describe()"
   ]
  },
  {
   "cell_type": "markdown",
   "metadata": {},
   "source": [
    "It is interesting to see how 1005 appears at 25%,50% and 75% and how mean is extremely close to 1005. Also I think it would be \n",
    "helpful to check out unique values of C1 and their CTR.Essentially, we are interested in identifying and knowing more about features and categories of those classes (although anonymized) that have high/low click through rates (CTR) so that those features can be used for prediction of clicks (0/1).\n",
    "\n",
    "CTR = Number of clicks/Number of impressions(times the add is shown)"
   ]
  },
  {
   "cell_type": "code",
   "execution_count": 15,
   "metadata": {},
   "outputs": [
    {
     "data": {
      "text/plain": [
       "C1\n",
       "1001    0.018315\n",
       "1002    0.212606\n",
       "1005    0.170058\n",
       "1007    0.044578\n",
       "1008    0.164634\n",
       "1010    0.091045\n",
       "1012    0.068479\n",
       "Name: click, dtype: float64"
      ]
     },
     "execution_count": 15,
     "metadata": {},
     "output_type": "execute_result"
    }
   ],
   "source": [
    "data.groupby('C1').click.mean()"
   ]
  },
  {
   "cell_type": "markdown",
   "metadata": {},
   "source": [
    "We can see a few of the values deviating from the actual CTR and I think we should consider this as our predictor. "
   ]
  },
  {
   "cell_type": "code",
   "execution_count": null,
   "metadata": {},
   "outputs": [],
   "source": [
    "plt.show()"
   ]
  },
  {
   "cell_type": "markdown",
   "metadata": {},
   "source": [
    "This approach of calculating CTR seems like a good option for selecting probable features. I'm going to replicate the same analysis for other features. "
   ]
  },
  {
   "cell_type": "markdown",
   "metadata": {},
   "source": [
    "### C14"
   ]
  },
  {
   "cell_type": "code",
   "execution_count": 16,
   "metadata": {},
   "outputs": [
    {
     "data": {
      "text/plain": [
       "C14\n",
       "375      0.239443\n",
       "376      0.285714\n",
       "377      0.233745\n",
       "380      0.194190\n",
       "381      0.346667\n",
       "451      0.416667\n",
       "452      0.138929\n",
       "454      0.115646\n",
       "456      0.130582\n",
       "463      0.128674\n",
       "787      0.077778\n",
       "1037     0.291399\n",
       "1038     0.231041\n",
       "1039     0.243137\n",
       "1266     0.250000\n",
       "1267     0.333333\n",
       "1268     0.250000\n",
       "1269     0.000000\n",
       "1270     0.416667\n",
       "1272     0.000000\n",
       "1275     0.315789\n",
       "1276     0.291667\n",
       "1278     0.181818\n",
       "4407     0.083333\n",
       "4518     0.053333\n",
       "4687     0.248480\n",
       "5296     0.225078\n",
       "5299     0.234467\n",
       "6360     0.205882\n",
       "6361     0.190123\n",
       "           ...   \n",
       "23765    0.307692\n",
       "23805    0.043478\n",
       "23808    0.000000\n",
       "23809    0.000000\n",
       "23810    0.000000\n",
       "23811    0.000000\n",
       "23812    0.000000\n",
       "23813    0.000000\n",
       "23814    0.063725\n",
       "23815    0.214286\n",
       "23816    0.175926\n",
       "23817    0.121212\n",
       "23818    0.144444\n",
       "23819    0.135417\n",
       "23820    0.132653\n",
       "23821    0.152174\n",
       "23822    0.156627\n",
       "23823    0.123711\n",
       "23824    0.067308\n",
       "23825    0.152174\n",
       "23826    0.500000\n",
       "23827    0.000000\n",
       "23828    0.000000\n",
       "23830    0.000000\n",
       "23831    0.000000\n",
       "23832    0.000000\n",
       "23833    0.000000\n",
       "23834    0.000000\n",
       "23835    0.000000\n",
       "23836    0.000000\n",
       "Name: click, Length: 2019, dtype: float64"
      ]
     },
     "execution_count": 16,
     "metadata": {},
     "output_type": "execute_result"
    }
   ],
   "source": [
    "data.groupby('C14').click.mean()"
   ]
  },
  {
   "cell_type": "markdown",
   "metadata": {},
   "source": [
    "#### Note: Distribution of CTR seems non-intuitive and not explanatory. Also, All the non-relevant data exploration yielding no useful results have been excluded from this notebook during the process of notebook clean-up.  "
   ]
  },
  {
   "cell_type": "markdown",
   "metadata": {},
   "source": [
    "### C15"
   ]
  },
  {
   "cell_type": "code",
   "execution_count": 17,
   "metadata": {},
   "outputs": [
    {
     "data": {
      "text/plain": [
       "count    843502.000000\n",
       "mean        318.861537\n",
       "std          21.730624\n",
       "min         120.000000\n",
       "25%         320.000000\n",
       "50%         320.000000\n",
       "75%         320.000000\n",
       "max        1024.000000\n",
       "Name: C15, dtype: float64"
      ]
     },
     "execution_count": 17,
     "metadata": {},
     "output_type": "execute_result"
    }
   ],
   "source": [
    "data.C15.describe()"
   ]
  },
  {
   "cell_type": "code",
   "execution_count": 18,
   "metadata": {},
   "outputs": [
    {
     "data": {
      "text/plain": [
       "C15\n",
       "120     0.010526\n",
       "216     0.128220\n",
       "300     0.376449\n",
       "320     0.158500\n",
       "480     0.219512\n",
       "728     0.057357\n",
       "768     0.320000\n",
       "1024    0.250000\n",
       "Name: click, dtype: float64"
      ]
     },
     "execution_count": 18,
     "metadata": {},
     "output_type": "execute_result"
    }
   ],
   "source": [
    "data.groupby('C15').click.mean()"
   ]
  },
  {
   "cell_type": "code",
   "execution_count": 19,
   "metadata": {},
   "outputs": [
    {
     "name": "stdout",
     "output_type": "stream",
     "text": [
      "Impression Percentage Distribution in C15\n",
      "320     0.933709\n",
      "300     0.056028\n",
      "216     0.008100\n",
      "728     0.001902\n",
      "120     0.000113\n",
      "1024    0.000071\n",
      "480     0.000049\n",
      "768     0.000030\n",
      "Name: C15, dtype: float64\n"
     ]
    }
   ],
   "source": [
    "print(\"Impression Percentage Distribution in C15\")\n",
    "print(data.C15.value_counts()/len(data))"
   ]
  },
  {
   "cell_type": "markdown",
   "metadata": {},
   "source": [
    "### C16"
   ]
  },
  {
   "cell_type": "code",
   "execution_count": 20,
   "metadata": {},
   "outputs": [
    {
     "data": {
      "text/plain": [
       "count    843502.000000\n",
       "mean         60.286297\n",
       "std          47.965820\n",
       "min          20.000000\n",
       "25%          50.000000\n",
       "50%          50.000000\n",
       "75%          50.000000\n",
       "max        1024.000000\n",
       "Name: C16, dtype: float64"
      ]
     },
     "execution_count": 20,
     "metadata": {},
     "output_type": "execute_result"
    }
   ],
   "source": [
    "data.C16.describe()"
   ]
  },
  {
   "cell_type": "code",
   "execution_count": 21,
   "metadata": {},
   "outputs": [
    {
     "data": {
      "text/plain": [
       "C16\n",
       "20      0.010526\n",
       "36      0.128220\n",
       "50      0.158257\n",
       "90      0.057357\n",
       "250     0.431632\n",
       "320     0.219512\n",
       "480     0.215951\n",
       "768     0.250000\n",
       "1024    0.320000\n",
       "Name: click, dtype: float64"
      ]
     },
     "execution_count": 21,
     "metadata": {},
     "output_type": "execute_result"
    }
   ],
   "source": [
    "data.groupby('C16').click.mean()"
   ]
  },
  {
   "cell_type": "code",
   "execution_count": 22,
   "metadata": {},
   "outputs": [
    {
     "name": "stdout",
     "output_type": "stream",
     "text": [
      "Impression Percentage Distribution in C16\n",
      "50      0.941901\n",
      "250     0.044938\n",
      "36      0.008100\n",
      "480     0.002899\n",
      "90      0.001902\n",
      "20      0.000113\n",
      "768     0.000071\n",
      "320     0.000049\n",
      "1024    0.000030\n",
      "Name: C16, dtype: float64\n"
     ]
    }
   ],
   "source": [
    "print(\"Impression Percentage Distribution in C16\")\n",
    "print(data.C16.value_counts()/len(data))"
   ]
  },
  {
   "cell_type": "markdown",
   "metadata": {},
   "source": [
    "### Banner Position"
   ]
  },
  {
   "cell_type": "code",
   "execution_count": 23,
   "metadata": {},
   "outputs": [
    {
     "data": {
      "text/plain": [
       "count    843502.000000\n",
       "mean          0.293501\n",
       "std           0.515961\n",
       "min           0.000000\n",
       "25%           0.000000\n",
       "50%           0.000000\n",
       "75%           1.000000\n",
       "max           7.000000\n",
       "Name: banner_pos, dtype: float64"
      ]
     },
     "execution_count": 23,
     "metadata": {},
     "output_type": "execute_result"
    }
   ],
   "source": [
    "data.banner_pos.describe()"
   ]
  },
  {
   "cell_type": "code",
   "execution_count": 24,
   "metadata": {},
   "outputs": [
    {
     "name": "stdout",
     "output_type": "stream",
     "text": [
      "Impression Percentage per Banner Position\n",
      "0    0.715720\n",
      "1    0.282248\n",
      "7    0.001222\n",
      "2    0.000333\n",
      "4    0.000212\n",
      "5    0.000194\n",
      "3    0.000070\n",
      "Name: banner_pos, dtype: float64\n"
     ]
    }
   ],
   "source": [
    "print(\"Impression Percentage per Banner Position\")\n",
    "print(data.banner_pos.value_counts()/len(data))"
   ]
  },
  {
   "cell_type": "markdown",
   "metadata": {},
   "source": [
    "0 and 1 pos seems important since that is where most data is located."
   ]
  },
  {
   "cell_type": "code",
   "execution_count": 25,
   "metadata": {},
   "outputs": [
    {
     "data": {
      "text/plain": [
       "banner_pos\n",
       "0    0.163545\n",
       "1    0.186881\n",
       "2    0.103203\n",
       "3    0.118644\n",
       "4    0.150838\n",
       "5    0.164634\n",
       "7    0.298739\n",
       "Name: click, dtype: float64"
      ]
     },
     "execution_count": 25,
     "metadata": {},
     "output_type": "execute_result"
    }
   ],
   "source": [
    "data.groupby('banner_pos').click.mean()"
   ]
  },
  {
   "cell_type": "markdown",
   "metadata": {},
   "source": [
    "Although, it can be helpful to note that even though 0 and 1 positions are where our data is most located, 7th position \n",
    "seems pretty important as we have our heighest CTR there."
   ]
  },
  {
   "cell_type": "markdown",
   "metadata": {},
   "source": [
    "### Device-Type "
   ]
  },
  {
   "cell_type": "code",
   "execution_count": 26,
   "metadata": {},
   "outputs": [
    {
     "data": {
      "text/plain": [
       "device_type\n",
       "0    0.212606\n",
       "1    0.169607\n",
       "4    0.092953\n",
       "5    0.079595\n",
       "Name: click, dtype: float64"
      ]
     },
     "execution_count": 26,
     "metadata": {},
     "output_type": "execute_result"
    }
   ],
   "source": [
    "data.groupby(\"device_type\").click.mean()"
   ]
  },
  {
   "cell_type": "markdown",
   "metadata": {},
   "source": [
    "Heighest CTR is given by the device type 0."
   ]
  },
  {
   "cell_type": "code",
   "execution_count": 27,
   "metadata": {},
   "outputs": [
    {
     "name": "stdout",
     "output_type": "stream",
     "text": [
      "Impression Percentage per Device Type\n",
      "1    0.914977\n",
      "0    0.060412\n",
      "4    0.021095\n",
      "5    0.003515\n",
      "Name: device_type, dtype: float64\n"
     ]
    }
   ],
   "source": [
    "print(\"Impression Percentage per Device Type\")\n",
    "print(data.device_type.value_counts()/len(data))"
   ]
  },
  {
   "cell_type": "code",
   "execution_count": 28,
   "metadata": {},
   "outputs": [
    {
     "data": {
      "text/plain": [
       "count    843502.000000\n",
       "mean          1.016934\n",
       "std           0.553377\n",
       "min           0.000000\n",
       "25%           1.000000\n",
       "50%           1.000000\n",
       "75%           1.000000\n",
       "max           5.000000\n",
       "Name: device_type, dtype: float64"
      ]
     },
     "execution_count": 28,
     "metadata": {},
     "output_type": "execute_result"
    }
   ],
   "source": [
    "data.device_type.describe()"
   ]
  },
  {
   "cell_type": "code",
   "execution_count": 29,
   "metadata": {},
   "outputs": [],
   "source": [
    "Target = data[\"click\"]\n",
    "traindata=data.drop(\"click\",axis=1)"
   ]
  },
  {
   "cell_type": "code",
   "execution_count": 30,
   "metadata": {},
   "outputs": [
    {
     "data": {
      "text/html": [
       "<div>\n",
       "<style scoped>\n",
       "    .dataframe tbody tr th:only-of-type {\n",
       "        vertical-align: middle;\n",
       "    }\n",
       "\n",
       "    .dataframe tbody tr th {\n",
       "        vertical-align: top;\n",
       "    }\n",
       "\n",
       "    .dataframe thead th {\n",
       "        text-align: right;\n",
       "    }\n",
       "</style>\n",
       "<table border=\"1\" class=\"dataframe\">\n",
       "  <thead>\n",
       "    <tr style=\"text-align: right;\">\n",
       "      <th></th>\n",
       "      <th>id</th>\n",
       "      <th>hour</th>\n",
       "      <th>C1</th>\n",
       "      <th>banner_pos</th>\n",
       "      <th>site_id</th>\n",
       "      <th>site_domain</th>\n",
       "      <th>site_category</th>\n",
       "      <th>app_id</th>\n",
       "      <th>app_domain</th>\n",
       "      <th>app_category</th>\n",
       "      <th>...</th>\n",
       "      <th>device_type</th>\n",
       "      <th>device_conn_type</th>\n",
       "      <th>C14</th>\n",
       "      <th>C15</th>\n",
       "      <th>C16</th>\n",
       "      <th>C17</th>\n",
       "      <th>C18</th>\n",
       "      <th>C19</th>\n",
       "      <th>C20</th>\n",
       "      <th>C21</th>\n",
       "    </tr>\n",
       "  </thead>\n",
       "  <tbody>\n",
       "    <tr>\n",
       "      <th>0</th>\n",
       "      <td>10002028568167339219</td>\n",
       "      <td>14102100</td>\n",
       "      <td>1005</td>\n",
       "      <td>0</td>\n",
       "      <td>9e8cf15d</td>\n",
       "      <td>0d3cb7be</td>\n",
       "      <td>f028772b</td>\n",
       "      <td>ecad2386</td>\n",
       "      <td>7801e8d9</td>\n",
       "      <td>07d7df22</td>\n",
       "      <td>...</td>\n",
       "      <td>1</td>\n",
       "      <td>2</td>\n",
       "      <td>20596</td>\n",
       "      <td>320</td>\n",
       "      <td>50</td>\n",
       "      <td>2161</td>\n",
       "      <td>0</td>\n",
       "      <td>35</td>\n",
       "      <td>100148</td>\n",
       "      <td>157</td>\n",
       "    </tr>\n",
       "    <tr>\n",
       "      <th>1</th>\n",
       "      <td>10006958186789044052</td>\n",
       "      <td>14102100</td>\n",
       "      <td>1005</td>\n",
       "      <td>0</td>\n",
       "      <td>85f751fd</td>\n",
       "      <td>c4e18dd6</td>\n",
       "      <td>50e219e0</td>\n",
       "      <td>0acbeaa3</td>\n",
       "      <td>45a51db4</td>\n",
       "      <td>f95efa07</td>\n",
       "      <td>...</td>\n",
       "      <td>1</td>\n",
       "      <td>0</td>\n",
       "      <td>18993</td>\n",
       "      <td>320</td>\n",
       "      <td>50</td>\n",
       "      <td>2161</td>\n",
       "      <td>0</td>\n",
       "      <td>35</td>\n",
       "      <td>100034</td>\n",
       "      <td>157</td>\n",
       "    </tr>\n",
       "    <tr>\n",
       "      <th>2</th>\n",
       "      <td>10011650513707909570</td>\n",
       "      <td>14102100</td>\n",
       "      <td>1005</td>\n",
       "      <td>0</td>\n",
       "      <td>85f751fd</td>\n",
       "      <td>c4e18dd6</td>\n",
       "      <td>50e219e0</td>\n",
       "      <td>febd1138</td>\n",
       "      <td>82e27996</td>\n",
       "      <td>0f2161f8</td>\n",
       "      <td>...</td>\n",
       "      <td>1</td>\n",
       "      <td>0</td>\n",
       "      <td>21611</td>\n",
       "      <td>320</td>\n",
       "      <td>50</td>\n",
       "      <td>2480</td>\n",
       "      <td>3</td>\n",
       "      <td>297</td>\n",
       "      <td>100111</td>\n",
       "      <td>61</td>\n",
       "    </tr>\n",
       "    <tr>\n",
       "      <th>3</th>\n",
       "      <td>10022961149355219548</td>\n",
       "      <td>14102100</td>\n",
       "      <td>1005</td>\n",
       "      <td>0</td>\n",
       "      <td>85f751fd</td>\n",
       "      <td>c4e18dd6</td>\n",
       "      <td>50e219e0</td>\n",
       "      <td>e2fcccd2</td>\n",
       "      <td>5c5a694b</td>\n",
       "      <td>0f2161f8</td>\n",
       "      <td>...</td>\n",
       "      <td>1</td>\n",
       "      <td>0</td>\n",
       "      <td>4687</td>\n",
       "      <td>320</td>\n",
       "      <td>50</td>\n",
       "      <td>423</td>\n",
       "      <td>2</td>\n",
       "      <td>39</td>\n",
       "      <td>100148</td>\n",
       "      <td>32</td>\n",
       "    </tr>\n",
       "    <tr>\n",
       "      <th>4</th>\n",
       "      <td>10029289556764215760</td>\n",
       "      <td>14102100</td>\n",
       "      <td>1005</td>\n",
       "      <td>0</td>\n",
       "      <td>1fbe01fe</td>\n",
       "      <td>f3845767</td>\n",
       "      <td>28905ebd</td>\n",
       "      <td>ecad2386</td>\n",
       "      <td>7801e8d9</td>\n",
       "      <td>07d7df22</td>\n",
       "      <td>...</td>\n",
       "      <td>1</td>\n",
       "      <td>2</td>\n",
       "      <td>15706</td>\n",
       "      <td>320</td>\n",
       "      <td>50</td>\n",
       "      <td>1722</td>\n",
       "      <td>0</td>\n",
       "      <td>35</td>\n",
       "      <td>100084</td>\n",
       "      <td>79</td>\n",
       "    </tr>\n",
       "  </tbody>\n",
       "</table>\n",
       "<p>5 rows × 23 columns</p>\n",
       "</div>"
      ],
      "text/plain": [
       "                     id      hour    C1  banner_pos   site_id site_domain  \\\n",
       "0  10002028568167339219  14102100  1005           0  9e8cf15d    0d3cb7be   \n",
       "1  10006958186789044052  14102100  1005           0  85f751fd    c4e18dd6   \n",
       "2  10011650513707909570  14102100  1005           0  85f751fd    c4e18dd6   \n",
       "3  10022961149355219548  14102100  1005           0  85f751fd    c4e18dd6   \n",
       "4  10029289556764215760  14102100  1005           0  1fbe01fe    f3845767   \n",
       "\n",
       "  site_category    app_id app_domain app_category  ... device_type  \\\n",
       "0      f028772b  ecad2386   7801e8d9     07d7df22  ...           1   \n",
       "1      50e219e0  0acbeaa3   45a51db4     f95efa07  ...           1   \n",
       "2      50e219e0  febd1138   82e27996     0f2161f8  ...           1   \n",
       "3      50e219e0  e2fcccd2   5c5a694b     0f2161f8  ...           1   \n",
       "4      28905ebd  ecad2386   7801e8d9     07d7df22  ...           1   \n",
       "\n",
       "  device_conn_type    C14  C15  C16   C17  C18  C19     C20  C21  \n",
       "0                2  20596  320   50  2161    0   35  100148  157  \n",
       "1                0  18993  320   50  2161    0   35  100034  157  \n",
       "2                0  21611  320   50  2480    3  297  100111   61  \n",
       "3                0   4687  320   50   423    2   39  100148   32  \n",
       "4                2  15706  320   50  1722    0   35  100084   79  \n",
       "\n",
       "[5 rows x 23 columns]"
      ]
     },
     "execution_count": 30,
     "metadata": {},
     "output_type": "execute_result"
    }
   ],
   "source": [
    "traindata.head()"
   ]
  },
  {
   "cell_type": "code",
   "execution_count": 34,
   "metadata": {},
   "outputs": [],
   "source": [
    "unames=['id', 'hour', 'C1', 'banner_pos', 'site_id', 'site_domain',\n",
    "       'site_category', 'app_id', 'app_domain', 'app_category', 'device_id',\n",
    "       'device_ip', 'device_model', 'device_type', 'device_conn_type', 'C14',\n",
    "       'C15', 'C16', 'C17', 'C18', 'C19', 'C20', 'C21']\n",
    "testdata = pd.read_csv(\"sampled_test.csv\",header=None, names=unames)"
   ]
  },
  {
   "cell_type": "code",
   "execution_count": 35,
   "metadata": {},
   "outputs": [
    {
     "data": {
      "text/html": [
       "<div>\n",
       "<style scoped>\n",
       "    .dataframe tbody tr th:only-of-type {\n",
       "        vertical-align: middle;\n",
       "    }\n",
       "\n",
       "    .dataframe tbody tr th {\n",
       "        vertical-align: top;\n",
       "    }\n",
       "\n",
       "    .dataframe thead th {\n",
       "        text-align: right;\n",
       "    }\n",
       "</style>\n",
       "<table border=\"1\" class=\"dataframe\">\n",
       "  <thead>\n",
       "    <tr style=\"text-align: right;\">\n",
       "      <th></th>\n",
       "      <th>id</th>\n",
       "      <th>hour</th>\n",
       "      <th>C1</th>\n",
       "      <th>banner_pos</th>\n",
       "      <th>site_id</th>\n",
       "      <th>site_domain</th>\n",
       "      <th>site_category</th>\n",
       "      <th>app_id</th>\n",
       "      <th>app_domain</th>\n",
       "      <th>app_category</th>\n",
       "      <th>...</th>\n",
       "      <th>device_type</th>\n",
       "      <th>device_conn_type</th>\n",
       "      <th>C14</th>\n",
       "      <th>C15</th>\n",
       "      <th>C16</th>\n",
       "      <th>C17</th>\n",
       "      <th>C18</th>\n",
       "      <th>C19</th>\n",
       "      <th>C20</th>\n",
       "      <th>C21</th>\n",
       "    </tr>\n",
       "  </thead>\n",
       "  <tbody>\n",
       "    <tr>\n",
       "      <th>0</th>\n",
       "      <td>635176803480460379</td>\n",
       "      <td>14103000</td>\n",
       "      <td>1002</td>\n",
       "      <td>0</td>\n",
       "      <td>85f751fd</td>\n",
       "      <td>c4e18dd6</td>\n",
       "      <td>50e219e0</td>\n",
       "      <td>27550a3c</td>\n",
       "      <td>7801e8d9</td>\n",
       "      <td>07d7df22</td>\n",
       "      <td>...</td>\n",
       "      <td>0</td>\n",
       "      <td>0</td>\n",
       "      <td>23553</td>\n",
       "      <td>300</td>\n",
       "      <td>50</td>\n",
       "      <td>2699</td>\n",
       "      <td>0</td>\n",
       "      <td>163</td>\n",
       "      <td>-1</td>\n",
       "      <td>212</td>\n",
       "    </tr>\n",
       "  </tbody>\n",
       "</table>\n",
       "<p>1 rows × 23 columns</p>\n",
       "</div>"
      ],
      "text/plain": [
       "                   id      hour    C1  banner_pos   site_id site_domain  \\\n",
       "0  635176803480460379  14103000  1002           0  85f751fd    c4e18dd6   \n",
       "\n",
       "  site_category    app_id app_domain app_category  ... device_type  \\\n",
       "0      50e219e0  27550a3c   7801e8d9     07d7df22  ...           0   \n",
       "\n",
       "  device_conn_type    C14  C15  C16   C17  C18  C19  C20  C21  \n",
       "0                0  23553  300   50  2699    0  163   -1  212  \n",
       "\n",
       "[1 rows x 23 columns]"
      ]
     },
     "execution_count": 35,
     "metadata": {},
     "output_type": "execute_result"
    }
   ],
   "source": [
    "testdata.head(1)"
   ]
  },
  {
   "cell_type": "markdown",
   "metadata": {},
   "source": [
    "### Dataprocessing:\n",
    "A quick Data-type check to see if any preprocessing is required. Usually, strings or identifier variables are not accepted in the fit() and due to which label-encoding or hot-encoding is required. \n"
   ]
  },
  {
   "cell_type": "code",
   "execution_count": 36,
   "metadata": {},
   "outputs": [
    {
     "name": "stdout",
     "output_type": "stream",
     "text": [
      "id uint64\n",
      "click int64\n",
      "hour int64\n",
      "C1 int64\n",
      "banner_pos int64\n",
      "site_id object\n",
      "site_domain object\n",
      "site_category object\n",
      "app_id object\n",
      "app_domain object\n",
      "app_category object\n",
      "device_id object\n",
      "device_ip object\n",
      "device_model object\n",
      "device_type int64\n",
      "device_conn_type int64\n",
      "C14 int64\n",
      "C15 int64\n",
      "C16 int64\n",
      "C17 int64\n",
      "C18 int64\n",
      "C19 int64\n",
      "C20 int64\n",
      "C21 int64\n"
     ]
    }
   ],
   "source": [
    "for name, dtype in data.dtypes.iteritems():\n",
    "    print(name, dtype)\n",
    "\n"
   ]
  },
  {
   "cell_type": "markdown",
   "metadata": {},
   "source": [
    "### Data Preprocessing: Label-Encoding Site, App and Domain features"
   ]
  },
  {
   "cell_type": "code",
   "execution_count": 37,
   "metadata": {},
   "outputs": [
    {
     "name": "stdout",
     "output_type": "stream",
     "text": [
      "2366\n"
     ]
    }
   ],
   "source": [
    "from sklearn import preprocessing\n",
    "le = preprocessing.LabelEncoder()\n",
    "le.fit(list(traindata.site_id.unique()))\n",
    "print(len(list(le.classes_)))\n",
    "traindata['site_id']=le.transform(traindata.site_id) \n"
   ]
  },
  {
   "cell_type": "code",
   "execution_count": 38,
   "metadata": {},
   "outputs": [
    {
     "name": "stdout",
     "output_type": "stream",
     "text": [
      "2506\n"
     ]
    }
   ],
   "source": [
    "from sklearn import preprocessing\n",
    "le = preprocessing.LabelEncoder()\n",
    "le.fit(list(traindata.site_domain.unique()))\n",
    "print(len(list(le.classes_)))\n",
    "traindata['site_domain']=le.transform(traindata.site_domain) "
   ]
  },
  {
   "cell_type": "code",
   "execution_count": 39,
   "metadata": {},
   "outputs": [
    {
     "name": "stdout",
     "output_type": "stream",
     "text": [
      "2211\n"
     ]
    }
   ],
   "source": [
    "from sklearn import preprocessing\n",
    "le = preprocessing.LabelEncoder()\n",
    "le.fit(list(traindata.app_id.unique()))\n",
    "print(len(list(le.classes_)))\n",
    "traindata['app_id']=le.transform(traindata.app_id) "
   ]
  },
  {
   "cell_type": "code",
   "execution_count": 40,
   "metadata": {},
   "outputs": [
    {
     "name": "stdout",
     "output_type": "stream",
     "text": [
      "156\n"
     ]
    }
   ],
   "source": [
    "from sklearn import preprocessing\n",
    "le = preprocessing.LabelEncoder()\n",
    "le.fit(list(traindata.app_domain.unique()))\n",
    "print(len(list(le.classes_)))\n",
    "traindata['app_domain']=le.transform(traindata.app_domain) "
   ]
  },
  {
   "cell_type": "code",
   "execution_count": 41,
   "metadata": {},
   "outputs": [
    {
     "name": "stdout",
     "output_type": "stream",
     "text": [
      "78975\n"
     ]
    }
   ],
   "source": [
    "from sklearn import preprocessing\n",
    "le = preprocessing.LabelEncoder()\n",
    "le.fit(list(traindata.device_id.unique()))\n",
    "print(len(list(le.classes_)))\n",
    "traindata['device_id']=le.transform(traindata.device_id) "
   ]
  },
  {
   "cell_type": "code",
   "execution_count": 42,
   "metadata": {},
   "outputs": [
    {
     "name": "stdout",
     "output_type": "stream",
     "text": [
      "153806\n"
     ]
    }
   ],
   "source": [
    "from sklearn import preprocessing\n",
    "le = preprocessing.LabelEncoder()\n",
    "le.fit(list(traindata.device_ip.unique()))\n",
    "print(len(list(le.classes_)))\n",
    "traindata['device_ip']=le.transform(traindata.device_ip) "
   ]
  },
  {
   "cell_type": "code",
   "execution_count": 43,
   "metadata": {},
   "outputs": [
    {
     "name": "stdout",
     "output_type": "stream",
     "text": [
      "4415\n"
     ]
    }
   ],
   "source": [
    "from sklearn import preprocessing\n",
    "le = preprocessing.LabelEncoder()\n",
    "le.fit(list(traindata.device_model.unique()))\n",
    "print(len(list(le.classes_)))\n",
    "traindata['device_model']=le.transform(traindata.device_model) "
   ]
  },
  {
   "cell_type": "code",
   "execution_count": 44,
   "metadata": {},
   "outputs": [
    {
     "name": "stdout",
     "output_type": "stream",
     "text": [
      "id uint64\n",
      "hour int64\n",
      "C1 int64\n",
      "banner_pos int64\n",
      "site_id int32\n",
      "site_domain int32\n",
      "site_category object\n",
      "app_id int32\n",
      "app_domain int32\n",
      "app_category object\n",
      "device_id int32\n",
      "device_ip int32\n",
      "device_model int32\n",
      "device_type int64\n",
      "device_conn_type int64\n",
      "C14 int64\n",
      "C15 int64\n",
      "C16 int64\n",
      "C17 int64\n",
      "C18 int64\n",
      "C19 int64\n",
      "C20 int64\n",
      "C21 int64\n"
     ]
    }
   ],
   "source": [
    "for name, dtype in traindata.dtypes.iteritems():\n",
    "    print(name, dtype)"
   ]
  },
  {
   "cell_type": "code",
   "execution_count": 45,
   "metadata": {},
   "outputs": [
    {
     "name": "stdout",
     "output_type": "stream",
     "text": [
      "28\n"
     ]
    }
   ],
   "source": [
    "from sklearn import preprocessing\n",
    "le = preprocessing.LabelEncoder()\n",
    "le.fit(list(traindata.app_category.unique()))\n",
    "print(len(list(le.classes_)))\n",
    "traindata['app_category']=le.transform(traindata.app_category) "
   ]
  },
  {
   "cell_type": "code",
   "execution_count": 46,
   "metadata": {},
   "outputs": [
    {
     "name": "stdout",
     "output_type": "stream",
     "text": [
      "21\n"
     ]
    }
   ],
   "source": [
    "from sklearn import preprocessing\n",
    "le = preprocessing.LabelEncoder()\n",
    "le.fit(list(traindata.site_category.unique()))\n",
    "print(len(list(le.classes_)))\n",
    "traindata['site_category']=le.transform(traindata.site_category) "
   ]
  },
  {
   "cell_type": "code",
   "execution_count": 47,
   "metadata": {},
   "outputs": [
    {
     "data": {
      "text/html": [
       "<div>\n",
       "<style scoped>\n",
       "    .dataframe tbody tr th:only-of-type {\n",
       "        vertical-align: middle;\n",
       "    }\n",
       "\n",
       "    .dataframe tbody tr th {\n",
       "        vertical-align: top;\n",
       "    }\n",
       "\n",
       "    .dataframe thead th {\n",
       "        text-align: right;\n",
       "    }\n",
       "</style>\n",
       "<table border=\"1\" class=\"dataframe\">\n",
       "  <thead>\n",
       "    <tr style=\"text-align: right;\">\n",
       "      <th></th>\n",
       "      <th>id</th>\n",
       "      <th>hour</th>\n",
       "      <th>C1</th>\n",
       "      <th>banner_pos</th>\n",
       "      <th>site_id</th>\n",
       "      <th>site_domain</th>\n",
       "      <th>site_category</th>\n",
       "      <th>app_id</th>\n",
       "      <th>app_domain</th>\n",
       "      <th>app_category</th>\n",
       "      <th>...</th>\n",
       "      <th>device_type</th>\n",
       "      <th>device_conn_type</th>\n",
       "      <th>C14</th>\n",
       "      <th>C15</th>\n",
       "      <th>C16</th>\n",
       "      <th>C17</th>\n",
       "      <th>C18</th>\n",
       "      <th>C19</th>\n",
       "      <th>C20</th>\n",
       "      <th>C21</th>\n",
       "    </tr>\n",
       "  </thead>\n",
       "  <tbody>\n",
       "    <tr>\n",
       "      <th>0</th>\n",
       "      <td>10002028568167339219</td>\n",
       "      <td>14102100</td>\n",
       "      <td>1005</td>\n",
       "      <td>0</td>\n",
       "      <td>1468</td>\n",
       "      <td>112</td>\n",
       "      <td>19</td>\n",
       "      <td>2045</td>\n",
       "      <td>68</td>\n",
       "      <td>0</td>\n",
       "      <td>...</td>\n",
       "      <td>1</td>\n",
       "      <td>2</td>\n",
       "      <td>20596</td>\n",
       "      <td>320</td>\n",
       "      <td>50</td>\n",
       "      <td>2161</td>\n",
       "      <td>0</td>\n",
       "      <td>35</td>\n",
       "      <td>100148</td>\n",
       "      <td>157</td>\n",
       "    </tr>\n",
       "  </tbody>\n",
       "</table>\n",
       "<p>1 rows × 23 columns</p>\n",
       "</div>"
      ],
      "text/plain": [
       "                     id      hour    C1  banner_pos  site_id  site_domain  \\\n",
       "0  10002028568167339219  14102100  1005           0     1468          112   \n",
       "\n",
       "   site_category  app_id  app_domain  app_category  ...  device_type  \\\n",
       "0             19    2045          68             0  ...            1   \n",
       "\n",
       "   device_conn_type    C14  C15  C16   C17  C18  C19     C20  C21  \n",
       "0                 2  20596  320   50  2161    0   35  100148  157  \n",
       "\n",
       "[1 rows x 23 columns]"
      ]
     },
     "execution_count": 47,
     "metadata": {},
     "output_type": "execute_result"
    }
   ],
   "source": [
    "traindata.head(1)"
   ]
  },
  {
   "cell_type": "markdown",
   "metadata": {},
   "source": [
    "##### Choice of Machine-Learning Algorithm: \n",
    "Logistic Regression works the best for our case-study since it is not a very computer-intensive algorithm and is definitely a very fast and feasible model. More so, it is very interpretable which makes it easier to understand, improve and evaluate the model. Also, it solves the main objective of our case study which is to output the probabilities of the click which is given by predict_proba() "
   ]
  },
  {
   "cell_type": "markdown",
   "metadata": {},
   "source": [
    "##### Model-Selection and Model-Evaluation"
   ]
  },
  {
   "cell_type": "markdown",
   "metadata": {},
   "source": [
    "#### Baseline Model"
   ]
  },
  {
   "cell_type": "code",
   "execution_count": 60,
   "metadata": {},
   "outputs": [
    {
     "name": "stderr",
     "output_type": "stream",
     "text": [
      "C:\\Users\\dgariba\\AppData\\Local\\Continuum\\anaconda3\\lib\\site-packages\\sklearn\\linear_model\\logistic.py:433: FutureWarning: Default solver will be changed to 'lbfgs' in 0.22. Specify a solver to silence this warning.\n",
      "  FutureWarning)\n"
     ]
    },
    {
     "name": "stdout",
     "output_type": "stream",
     "text": [
      "[-2.94233117e-38] [[-1.38425113e-19 -4.14942453e-31 -2.95738746e-35 -7.23277820e-39\n",
      "  -3.37804524e-35 -5.12043788e-35 -2.60798070e-37 -4.91445782e-35\n",
      "  -1.96945310e-36 -1.34530913e-37 -1.45599725e-33 -2.22748502e-33\n",
      "  -6.48652731e-35 -3.20412221e-38 -1.63467746e-38 -5.74660841e-34\n",
      "  -9.44917985e-36 -1.18717523e-36 -6.43672327e-35 -3.83307596e-38\n",
      "  -6.32215175e-36 -1.83018638e-33 -2.79444589e-36]]\n",
      "Accuracy on Train Data Set: 0.8297289158769037\n"
     ]
    }
   ],
   "source": [
    "# Accuracy on Train-Data Set \n",
    "clf = LogisticRegression(fit_intercept=True)\n",
    "clf.fit(traindata, Target)\n",
    "print (clf.intercept_, clf.coef_)\n",
    "print ('Accuracy on Train Data Set: {0}'.format(clf.score(traindata, Target)))\n"
   ]
  },
  {
   "cell_type": "code",
   "execution_count": 84,
   "metadata": {},
   "outputs": [
    {
     "data": {
      "text/plain": [
       "array([[699878, 143624],\n",
       "       [     0,      0]], dtype=int64)"
      ]
     },
     "execution_count": 84,
     "metadata": {},
     "output_type": "execute_result"
    }
   ],
   "source": [
    "from sklearn.metrics import confusion_matrix, roc_curve, roc_auc_score\n",
    "\n",
    "confusion_matrix(clf.predict(train1),Target)"
   ]
  },
  {
   "cell_type": "markdown",
   "metadata": {},
   "source": [
    "Even though the accuracy is in good shape, confusion matrix yields very bad results."
   ]
  },
  {
   "cell_type": "markdown",
   "metadata": {},
   "source": [
    "##### A note on Model Evaluation and Accuracy: \n",
    "Although the probability doesn't look that bad it is to be noted that there is a high imbalance in the dataset in the classes. The fact that only 17% belong to 1 and rest to 0 contributes to a great increase in the accuracy and that is the reason confusion matrix and ROC curve seems to be a reasonable for evaluating different models. The idea is to basically maximize the area under the curve."
   ]
  },
  {
   "cell_type": "markdown",
   "metadata": {},
   "source": [
    "##### Model-2 built on the basis of results from data exploration"
   ]
  },
  {
   "cell_type": "raw",
   "metadata": {
    "collapsed": true
   },
   "source": [
    "train1 = traindata[['C1','C15','C16','device_type','banner_pos']]"
   ]
  },
  {
   "cell_type": "code",
   "execution_count": 81,
   "metadata": {},
   "outputs": [
    {
     "name": "stderr",
     "output_type": "stream",
     "text": [
      "C:\\Users\\dgariba\\AppData\\Local\\Continuum\\anaconda3\\lib\\site-packages\\sklearn\\linear_model\\logistic.py:433: FutureWarning: Default solver will be changed to 'lbfgs' in 0.22. Specify a solver to silence this warning.\n",
      "  FutureWarning)\n"
     ]
    },
    {
     "name": "stdout",
     "output_type": "stream",
     "text": [
      "[0.00090421] [[-0.0007582  -0.0027444   0.00560373 -0.38220128  0.23072132]]\n",
      "Accuracy on Train Data Set: 0.8280359738329014\n"
     ]
    }
   ],
   "source": [
    "clf1 = LogisticRegression(fit_intercept=True)\n",
    "clf1.fit(train1, Target)\n",
    "print (clf1.intercept_, clf1.coef_)\n",
    "print ('Accuracy on Train Data Set: {0}'.format(clf1.score(train1, Target)))"
   ]
  },
  {
   "cell_type": "code",
   "execution_count": 82,
   "metadata": {},
   "outputs": [
    {
     "data": {
      "text/plain": [
       "array([[697899, 143073],\n",
       "       [  1979,    551]], dtype=int64)"
      ]
     },
     "execution_count": 82,
     "metadata": {},
     "output_type": "execute_result"
    }
   ],
   "source": [
    "from sklearn.metrics import confusion_matrix, roc_curve, roc_auc_score\n",
    "\n",
    "confusion_matrix(clf1.predict(train1),Target)"
   ]
  },
  {
   "cell_type": "code",
   "execution_count": 83,
   "metadata": {},
   "outputs": [
    {
     "data": {
      "image/png": "[encoded data removed]",
      "text/plain": [
       "<Figure size 432x288 with 1 Axes>"
      ]
     },
     "metadata": {
      "needs_background": "light"
     },
     "output_type": "display_data"
    }
   ],
   "source": [
    "from sklearn.metrics import confusion_matrix, roc_curve, roc_auc_score\n",
    "fpr, tpr,_=roc_curve(clf1.predict(train1),Target,drop_intermediate=False)\n",
    "##Adding the ROC\n",
    "plt.plot(fpr, tpr, color='red',\n",
    "lw=2, label='ROC curve')\n",
    "##Random FPR and TPR\n",
    "plt.plot([0, 1], [0, 1], color='blue', lw=2, linestyle='--')\n",
    "##Title and label\n",
    "plt.xlabel('FPR')\n",
    "plt.ylabel('TPR')\n",
    "plt.title('ROC curve')\n",
    "plt.show()"
   ]
  },
  {
   "cell_type": "markdown",
   "metadata": {},
   "source": [
    "#### Feature-Selection via RFE "
   ]
  },
  {
   "cell_type": "code",
   "execution_count": null,
   "metadata": {},
   "outputs": [],
   "source": [
    "from sklearn.feature_selection import RFE\n",
    "model = LogisticRegression()\n",
    "#Initializing RFE model\n",
    "rfe = RFE(model, 5)\n",
    "#Transforming data using RFE\n",
    "X_rfe = rfe.fit_transform(traindata,Target)  \n",
    "#Fitting the data to model\n",
    "model.fit(X_rfe,Target)\n",
    "print(rfe.support_)\n",
    "print(rfe.ranking_)"
   ]
  },
  {
   "cell_type": "markdown",
   "metadata": {},
   "source": [
    "#### Model-3"
   ]
  },
  {
   "cell_type": "code",
   "execution_count": 55,
   "metadata": {},
   "outputs": [],
   "source": [
    "train2 = traindata[['id','hour','device_id','device_ip','C20']]"
   ]
  },
  {
   "cell_type": "code",
   "execution_count": 85,
   "metadata": {},
   "outputs": [
    {
     "name": "stderr",
     "output_type": "stream",
     "text": [
      "C:\\Users\\dgariba\\AppData\\Local\\Continuum\\anaconda3\\lib\\site-packages\\sklearn\\linear_model\\logistic.py:433: FutureWarning: Default solver will be changed to 'lbfgs' in 0.22. Specify a solver to silence this warning.\n",
      "  FutureWarning)\n"
     ]
    },
    {
     "name": "stdout",
     "output_type": "stream",
     "text": [
      "[-2.94233117e-38] [[-1.38425113e-19 -4.14942453e-31 -1.45599725e-33 -2.22748502e-33\n",
      "  -1.83018638e-33]]\n",
      "Accuracy on Train Data Set: 0.8297289158769037\n"
     ]
    }
   ],
   "source": [
    "clf2 = LogisticRegression(fit_intercept=True)\n",
    "clf2.fit(train2, Target)\n",
    "print (clf2.intercept_, clf2.coef_)\n",
    "print ('Accuracy on Train Data Set: {0}'.format(clf2.score(train2, Target)))"
   ]
  },
  {
   "cell_type": "code",
   "execution_count": 86,
   "metadata": {},
   "outputs": [
    {
     "data": {
      "text/plain": [
       "array([[699878, 143624],\n",
       "       [     0,      0]], dtype=int64)"
      ]
     },
     "execution_count": 86,
     "metadata": {},
     "output_type": "execute_result"
    }
   ],
   "source": [
    "from sklearn.metrics import confusion_matrix, roc_curve, roc_auc_score\n",
    "\n",
    "confusion_matrix(clf.predict(train2),Target)"
   ]
  },
  {
   "cell_type": "code",
   "execution_count": 87,
   "metadata": {},
   "outputs": [
    {
     "name": "stderr",
     "output_type": "stream",
     "text": [
      "C:\\Users\\dgariba\\AppData\\Local\\Continuum\\anaconda3\\lib\\site-packages\\sklearn\\metrics\\ranking.py:656: UndefinedMetricWarning: No positive samples in y_true, true positive value should be meaningless\n",
      "  UndefinedMetricWarning)\n"
     ]
    },
    {
     "data": {
      "image/png": "[encoded data removed]",
      "text/plain": [
       "<Figure size 432x288 with 1 Axes>"
      ]
     },
     "metadata": {
      "needs_background": "light"
     },
     "output_type": "display_data"
    }
   ],
   "source": [
    "from sklearn.metrics import confusion_matrix, roc_curve, roc_auc_score\n",
    "fpr, tpr,_=roc_curve(clf2.predict(train2),Target,drop_intermediate=False)\n",
    "##Adding the ROC\n",
    "plt.plot(fpr, tpr, color='red',\n",
    "lw=2, label='ROC curve')\n",
    "##Random FPR and TPR\n",
    "plt.plot([0, 1], [0, 1], color='blue', lw=2, linestyle='--')\n",
    "##Title and label\n",
    "plt.xlabel('FPR')\n",
    "plt.ylabel('TPR')\n",
    "plt.title('ROC curve')\n",
    "plt.show()"
   ]
  },
  {
   "cell_type": "markdown",
   "metadata": {},
   "source": [
    "#### Polynomial Feature Tranformation"
   ]
  },
  {
   "cell_type": "markdown",
   "metadata": {
    "collapsed": true
   },
   "source": [
    "*Data Exploration and Feature-Selection techniques did not improve the train data set accuracy. My next step would be to include higher-order terms of the features that I initially selected from the data-exploration step.Although this approach can lead to over-fitting but it is worth giving a try!*"
   ]
  },
  {
   "cell_type": "code",
   "execution_count": 88,
   "metadata": {},
   "outputs": [
    {
     "name": "stderr",
     "output_type": "stream",
     "text": [
      "C:\\Users\\dgariba\\AppData\\Local\\Continuum\\anaconda3\\lib\\site-packages\\sklearn\\linear_model\\logistic.py:433: FutureWarning: Default solver will be changed to 'lbfgs' in 0.22. Specify a solver to silence this warning.\n",
      "  FutureWarning)\n"
     ]
    },
    {
     "name": "stdout",
     "output_type": "stream",
     "text": [
      "[3.21519292e-15] [[ 3.21519292e-15  2.15361959e-12  6.70531205e-13  1.71634721e-13\n",
      "  -3.39005426e-13  3.23500532e-13  1.08083382e-09  3.38827750e-10\n",
      "   9.93979739e-11 -3.41703065e-10  3.24656710e-10  9.90643889e-11\n",
      "   5.83891389e-12 -1.01519416e-10  1.02047411e-10 -5.24879201e-11\n",
      "  -2.26489150e-11  7.57962320e-13 -8.12117989e-13  1.05521526e-13\n",
      "  -8.86491176e-14 -3.27303749e-09  3.68422440e-09  2.62893288e-08\n",
      "  -3.44424705e-07  3.25814184e-07 -5.73559553e-10 -1.65270047e-08\n",
      "  -1.02298866e-07  1.02412746e-07 -6.31565675e-08 -2.28595569e-08\n",
      "   6.63579868e-10 -8.19546754e-10  1.04497913e-10 -9.10774007e-11\n",
      "  -5.65746378e-09  7.39025371e-09 -2.71785118e-08  3.25760313e-08\n",
      "   2.78367632e-08 -6.81767970e-09 -1.77402047e-10 -2.14286426e-10\n",
      "   3.56168120e-11 -3.90838230e-11  2.59719518e-08 -3.84933078e-09\n",
      "  -6.54342951e-09 -6.77357672e-11 -5.46048256e-11 -1.10998335e-10\n",
      "  -2.69107000e-12 -7.63785102e-13 -9.97438055e-13 -2.50809911e-12]]\n",
      "Accuracy from sk-learn: 0.8295925795078138\n"
     ]
    }
   ],
   "source": [
    "from sklearn.preprocessing import PolynomialFeatures\n",
    "\n",
    "poly = PolynomialFeatures(3)\n",
    "polydata = poly.fit_transform(train1)\n",
    "#X_train,X_test,y_train,y_test=train_test_split(polydata,Target,test_size=0.5,random_state=3)\n",
    "clf4 = LogisticRegression(fit_intercept=True)\n",
    "clf4.fit(polydata, Target)\n",
    "print (clf4.intercept_, clf4.coef_)\n",
    "print ('Accuracy from sk-learn: {0}'.format(clf4.score(polydata, Target)))"
   ]
  },
  {
   "cell_type": "code",
   "execution_count": 89,
   "metadata": {},
   "outputs": [
    {
     "data": {
      "text/plain": [
       "array([[699732, 143593],\n",
       "       [   146,     31]], dtype=int64)"
      ]
     },
     "execution_count": 89,
     "metadata": {},
     "output_type": "execute_result"
    }
   ],
   "source": [
    "from sklearn.metrics import confusion_matrix, roc_curve, roc_auc_score\n",
    "\n",
    "confusion_matrix(clf4.predict(polydata),Target)"
   ]
  },
  {
   "cell_type": "code",
   "execution_count": 91,
   "metadata": {},
   "outputs": [
    {
     "data": {
      "image/png": "[encoded data removed]",
      "text/plain": [
       "<Figure size 432x288 with 1 Axes>"
      ]
     },
     "metadata": {
      "needs_background": "light"
     },
     "output_type": "display_data"
    }
   ],
   "source": [
    "from sklearn.metrics import confusion_matrix, roc_curve, roc_auc_score\n",
    "fpr, tpr,_=roc_curve(clf4.predict(polydata),Target,drop_intermediate=False)\n",
    "##Adding the ROC\n",
    "plt.plot(fpr, tpr, color='red',\n",
    "lw=2, label='ROC curve')\n",
    "##Random FPR and TPR\n",
    "plt.plot([0, 1], [0, 1], color='blue', lw=2, linestyle='--')\n",
    "##Title and label\n",
    "plt.xlabel('FPR')\n",
    "plt.ylabel('TPR')\n",
    "plt.title('ROC curve')\n",
    "plt.show()"
   ]
  },
  {
   "cell_type": "markdown",
   "metadata": {},
   "source": [
    "Model-Selection: I think the best model suited for this problem according to my case study consists of features: C1,C15,C16,device_type and banner_pos. The features were a result of the data exploration. Ofcourse extensive featire-selection techniques and data-exploration can yield better results. Overfitting was checked by splitting the training set into 70:30 ratio for this model. Polynomial model have higher chances of over-fitting and other models did poorly.  \n"
   ]
  },
  {
   "cell_type": "markdown",
   "metadata": {},
   "source": [
    "#### *Predict Probabibilities for the Test-Data Set*"
   ]
  },
  {
   "cell_type": "code",
   "execution_count": 92,
   "metadata": {},
   "outputs": [],
   "source": [
    "testdata1 = testdata[['C1','C15','C16','device_type','banner_pos']]"
   ]
  },
  {
   "cell_type": "code",
   "execution_count": 96,
   "metadata": {},
   "outputs": [],
   "source": [
    "result=clf1.predict_proba(testdata1)"
   ]
  },
  {
   "cell_type": "code",
   "execution_count": 97,
   "metadata": {},
   "outputs": [],
   "source": [
    "df = pd.DataFrame(result)\n",
    "df.to_csv('Result.csv',index=False)"
   ]
  },
  {
   "cell_type": "code",
   "execution_count": null,
   "metadata": {},
   "outputs": [],
   "source": []
  }
 ],
 "metadata": {
  "kernelspec": {
   "display_name": "Python 3",
   "language": "python",
   "name": "python3"
  },
  "language_info": {
   "codemirror_mode": {
    "name": "ipython",
    "version": 3
   },
   "file_extension": ".py",
   "mimetype": "text/x-python",
   "name": "python",
   "nbconvert_exporter": "python",
   "pygments_lexer": "ipython3",
   "version": "3.7.3"
  }
 },
 "nbformat": 4,
 "nbformat_minor": 2
}
